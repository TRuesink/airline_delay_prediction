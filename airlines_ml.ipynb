{
 "cells": [
  {
   "cell_type": "markdown",
   "id": "dc4053a0",
   "metadata": {},
   "source": [
    "## Step 1: Import libraries\n"
   ]
  },
  {
   "cell_type": "code",
   "execution_count": 63,
   "id": "2094f498",
   "metadata": {},
   "outputs": [],
   "source": [
    "import pandas as pd\n",
    "import numpy as np\n",
    "from sklearn.model_selection import train_test_split \n",
    "from sklearn.preprocessing import MinMaxScaler\n",
    "from sklearn.linear_model import LogisticRegression\n",
    "from sklearn.metrics import mean_squared_error, r2_score, accuracy_score\n",
    "import matplotlib.pyplot as plt"
   ]
  },
  {
   "cell_type": "markdown",
   "id": "07dbe65b",
   "metadata": {},
   "source": [
    "## Step 2: Inspect your data\n",
    "\n",
    "This is our opportunity to investigate the features of our dataset. It will help us with the preprocessing steps."
   ]
  },
  {
   "cell_type": "code",
   "execution_count": 67,
   "id": "7205bec8",
   "metadata": {},
   "outputs": [
    {
     "name": "stdout",
     "output_type": "stream",
     "text": [
      "   id Airline  Flight AirportFrom AirportTo  DayOfWeek  Time  Length  Delay\n",
      "0   1      CO     269         SFO       IAH          3    15     205      1\n",
      "1   2      US    1558         PHX       CLT          3    15     222      1\n",
      "2   3      AA    2400         LAX       DFW          3    20     165      1\n",
      "3   4      AA    2466         SFO       DFW          3    20     195      1\n",
      "4   5      AS     108         ANC       SEA          3    30     202      0\n",
      "\n",
      "\n",
      "                  id         Flight      DayOfWeek           Time  \\\n",
      "count  539383.000000  539383.000000  539383.000000  539383.000000   \n",
      "mean   269692.000000    2427.928630       3.929668     802.728963   \n",
      "std    155706.604461    2067.429837       1.914664     278.045911   \n",
      "min         1.000000       1.000000       1.000000      10.000000   \n",
      "25%    134846.500000     712.000000       2.000000     565.000000   \n",
      "50%    269692.000000    1809.000000       4.000000     795.000000   \n",
      "75%    404537.500000    3745.000000       5.000000    1035.000000   \n",
      "max    539383.000000    7814.000000       7.000000    1439.000000   \n",
      "\n",
      "              Length          Delay  \n",
      "count  539383.000000  539383.000000  \n",
      "mean      132.202007       0.445442  \n",
      "std        70.117016       0.497015  \n",
      "min         0.000000       0.000000  \n",
      "25%        81.000000       0.000000  \n",
      "50%       115.000000       0.000000  \n",
      "75%       162.000000       1.000000  \n",
      "max       655.000000       1.000000  \n",
      "\n",
      "\n",
      "<class 'pandas.core.frame.DataFrame'>\n",
      "RangeIndex: 539383 entries, 0 to 539382\n",
      "Data columns (total 9 columns):\n",
      " #   Column       Non-Null Count   Dtype \n",
      "---  ------       --------------   ----- \n",
      " 0   id           539383 non-null  int64 \n",
      " 1   Airline      539383 non-null  object\n",
      " 2   Flight       539383 non-null  int64 \n",
      " 3   AirportFrom  539383 non-null  object\n",
      " 4   AirportTo    539383 non-null  object\n",
      " 5   DayOfWeek    539383 non-null  int64 \n",
      " 6   Time         539383 non-null  int64 \n",
      " 7   Length       539383 non-null  int64 \n",
      " 8   Delay        539383 non-null  int64 \n",
      "dtypes: int64(6), object(3)\n",
      "memory usage: 37.0+ MB\n",
      "None\n",
      "\n",
      "\n",
      "id             539383\n",
      "Airline            18\n",
      "Flight           6585\n",
      "AirportFrom       293\n",
      "AirportTo         293\n",
      "DayOfWeek           7\n",
      "Time             1131\n",
      "Length            426\n",
      "Delay               2\n",
      "dtype: int64\n"
     ]
    },
    {
     "data": {
      "image/png": "[encoded data removed]",
      "text/plain": [
       "<Figure size 432x288 with 1 Axes>"
      ]
     },
     "metadata": {
      "needs_background": "light"
     },
     "output_type": "display_data"
    }
   ],
   "source": [
    "# Load in the data\n",
    "airlines_df = pd.read_csv('Airlines.csv')\n",
    "\n",
    "# Print summary of data\n",
    "print(airlines_df.head())\n",
    "print('\\n')\n",
    "print(airlines_df.describe())\n",
    "print('\\n')\n",
    "print(airlines_df.info())\n",
    "print('\\n')\n",
    "print(airlines_df.nunique())\n",
    "\n",
    "plt.hist(airlines_df['Delay'])\n",
    "plt.show()"
   ]
  },
  {
   "cell_type": "markdown",
   "id": "1d505d85",
   "metadata": {},
   "source": [
    "## Step 3: Split the data into train and test sets\n",
    "\n",
    "Now we will split our dataset into training and testing sets. The data from our training set will be used to build the model and the data from the test set will be used to validate the model.\n",
    "\n",
    "We will also drop the Flight column (which shows which type of plane) and id column, as they may pollute our results (feature selection)"
   ]
  },
  {
   "cell_type": "code",
   "execution_count": 68,
   "id": "a062bac1",
   "metadata": {},
   "outputs": [],
   "source": [
    "# Drop the features Flight and id\n",
    "airlines_df = airlines_df.drop([\"id\",\"Flight\"], axis=1)\n",
    "\n",
    "airlines_df['DayOfWeek'] = airlines_df[\"DayOfWeek\"].map({1:\"Sun\", 2:\"Mon\", 3:\"Tues\", 4:\"Wed\", 5:\"Thurs\", 6:\"Fri\", 7:\"Sat\"})\n",
    "\n",
    "delays = airlines_df[\"Delay\"].to_numpy()\n",
    "\n",
    "features = airlines_df.drop(['Delay'], axis=1)\n",
    "\n",
    "# split the data into training and testing sets\n",
    "X_train, X_test, y_train, y_test = train_test_split(features, delays, test_size=0.5, random_state=42, stratify=delays)"
   ]
  },
  {
   "cell_type": "markdown",
   "id": "d0598baa",
   "metadata": {},
   "source": [
    "## Step 4: Preprocessing\n",
    "\n",
    "There are a few data processing steps we need to execute before building our model:\n",
    "1. Some columns are numeric (int64, float64) and some are non-numeric(object)\n",
    "2. The numeric data has varying ranges.\n",
    "3. It's not the case for this dataset, but if there were missing values, we'd have to come up with an interpolation strategy for the empty cells"
   ]
  },
  {
   "cell_type": "code",
   "execution_count": 69,
   "id": "43282445",
   "metadata": {},
   "outputs": [],
   "source": [
    "# Convert the categorical features in the train and test sets independently\n",
    "# this improves computation time. There are also some models that require strictly numeric format\n",
    "X_train = pd.get_dummies(X_train)\n",
    "X_test = pd.get_dummies(X_test)\n",
    "\n",
    "# we need to reindex the columns in case features appeared in the test set that were not in the train set\n",
    "# set the fill value to 0\n",
    "X_test = X_test.reindex(columns=X_train.columns, fill_value=0)\n",
    "\n",
    "# Instantiate MinMaxScaler and use it to rescale X_train and X_test\n",
    "scaler = MinMaxScaler(feature_range=(0,1))\n",
    "rescaled_X_train = scaler.fit_transform(X_train)\n",
    "rescaled_X_test = scaler.transform(X_test)"
   ]
  },
  {
   "cell_type": "markdown",
   "id": "fcb4aa1a",
   "metadata": {},
   "source": [
    "## Step 5: Building our ML Model"
   ]
  },
  {
   "cell_type": "code",
   "execution_count": 70,
   "id": "60e52afe",
   "metadata": {},
   "outputs": [
    {
     "data": {
      "text/plain": [
       "LogisticRegression(max_iter=1000)"
      ]
     },
     "execution_count": 70,
     "metadata": {},
     "output_type": "execute_result"
    }
   ],
   "source": [
    "# Instantiate a LogisticRegression classifier with default parameter values\n",
    "logreg = LogisticRegression(max_iter=1000)\n",
    "# fit the model\n",
    "logreg.fit(rescaled_X_train, y_train)"
   ]
  },
  {
   "cell_type": "markdown",
   "id": "d54dfba5",
   "metadata": {},
   "source": [
    "## Step 6: Model Accuracy"
   ]
  },
  {
   "cell_type": "code",
   "execution_count": 71,
   "id": "eb03ea89",
   "metadata": {},
   "outputs": [
    {
     "name": "stdout",
     "output_type": "stream",
     "text": [
      "Accuracy of logistic regression classifier:  0.6468476886510859\n"
     ]
    }
   ],
   "source": [
    "y_pred_train = logreg.predict(rescaled_X_train)\n",
    "y_pred_test = logreg.predict(rescaled_X_test)\n",
    "\n",
    "print(\"Accuracy of logistic regression classifier: \",accuracy_score(y_train, y_pred_train))"
   ]
  }
 ],
 "metadata": {
  "kernelspec": {
   "display_name": "Python 3 (ipykernel)",
   "language": "python",
   "name": "python3"
  },
  "language_info": {
   "codemirror_mode": {
    "name": "ipython",
    "version": 3
   },
   "file_extension": ".py",
   "mimetype": "text/x-python",
   "name": "python",
   "nbconvert_exporter": "python",
   "pygments_lexer": "ipython3",
   "version": "3.7.10"
  }
 },
 "nbformat": 4,
 "nbformat_minor": 5
}
