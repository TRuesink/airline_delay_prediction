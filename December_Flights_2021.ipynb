{
 "cells": [
  {
   "cell_type": "markdown",
   "id": "d41de94d",
   "metadata": {},
   "source": [
    "# Import Libraries"
   ]
  },
  {
   "cell_type": "code",
   "execution_count": 1,
   "id": "7a31b2d3",
   "metadata": {},
   "outputs": [],
   "source": [
    "import pandas as pd\n",
    "import numpy as np\n",
    "from sklearn.model_selection import train_test_split \n",
    "from sklearn.preprocessing import MinMaxScaler\n",
    "from sklearn.linear_model import LogisticRegression\n",
    "from sklearn.metrics import mean_squared_error, r2_score, accuracy_score\n",
    "import matplotlib.pyplot as plt"
   ]
  },
  {
   "cell_type": "markdown",
   "id": "4a6199c2",
   "metadata": {},
   "source": [
    "# Show data information"
   ]
  },
  {
   "cell_type": "code",
   "execution_count": 29,
   "id": "281448ed",
   "metadata": {},
   "outputs": [
    {
     "name": "stdout",
     "output_type": "stream",
     "text": [
      "   YEAR  MONTH  DAY_OF_MONTH  DAY_OF_WEEK                FL_DATE  \\\n",
      "0  2021     12             7            2  12/7/2021 12:00:00 AM   \n",
      "1  2021     12             7            2  12/7/2021 12:00:00 AM   \n",
      "2  2021     12             7            2  12/7/2021 12:00:00 AM   \n",
      "3  2021     12             7            2  12/7/2021 12:00:00 AM   \n",
      "4  2021     12             7            2  12/7/2021 12:00:00 AM   \n",
      "\n",
      "  OP_UNIQUE_CARRIER ORIGIN DEST  CRS_DEP_TIME  DEP_TIME  DEP_DELAY_NEW  \\\n",
      "0                WN    DEN  MDW           650     650.0            0.0   \n",
      "1                WN    DEN  MDW          1520    1613.0           53.0   \n",
      "2                WN    DEN  MEM          1330    1429.0           59.0   \n",
      "3                WN    DEN  MIA          1800    1901.0           61.0   \n",
      "4                WN    DEN  MIA          1045    1120.0           35.0   \n",
      "\n",
      "   DEP_DEL15  CRS_ARR_TIME  ARR_TIME  ARR_DELAY_NEW  ARR_DEL15  \\\n",
      "0        0.0          1010     956.0            0.0        0.0   \n",
      "1        1.0          1845    1919.0           34.0        1.0   \n",
      "2        1.0          1640    1724.0           44.0        1.0   \n",
      "3        1.0          2350      24.0           34.0        1.0   \n",
      "4        1.0          1630    1656.0           26.0        1.0   \n",
      "\n",
      "   CRS_ELAPSED_TIME  DISTANCE  DISTANCE_GROUP  \n",
      "0             140.0     895.0               4  \n",
      "1             145.0     895.0               4  \n",
      "2             130.0     872.0               4  \n",
      "3             230.0    1709.0               7  \n",
      "4             225.0    1709.0               7  \n",
      "           YEAR     MONTH   DAY_OF_MONTH    DAY_OF_WEEK   CRS_DEP_TIME  \\\n",
      "count  580238.0  580238.0  580238.000000  580238.000000  580238.000000   \n",
      "mean     2021.0      12.0      15.976320       3.971507    1328.659569   \n",
      "std         0.0       0.0       8.923174       1.923281     483.804199   \n",
      "min      2021.0      12.0       1.000000       1.000000       1.000000   \n",
      "25%      2021.0      12.0       8.000000       2.000000     920.000000   \n",
      "50%      2021.0      12.0      16.000000       4.000000    1320.000000   \n",
      "75%      2021.0      12.0      24.000000       5.000000    1730.000000   \n",
      "max      2021.0      12.0      31.000000       7.000000    2359.000000   \n",
      "\n",
      "            DEP_TIME  DEP_DELAY_NEW      DEP_DEL15   CRS_ARR_TIME  \\\n",
      "count  566778.000000  566774.000000  566774.000000  580238.000000   \n",
      "mean     1334.652405      16.022695       0.226810    1494.603790   \n",
      "std       497.322799      51.385007       0.418769     509.152381   \n",
      "min         1.000000       0.000000       0.000000       1.000000   \n",
      "25%       924.000000       0.000000       0.000000    1115.000000   \n",
      "50%      1328.000000       0.000000       0.000000    1518.000000   \n",
      "75%      1738.000000      12.000000       0.000000    1920.000000   \n",
      "max      2400.000000    3001.000000       1.000000    2359.000000   \n",
      "\n",
      "            ARR_TIME  ARR_DELAY_NEW      ARR_DEL15  CRS_ELAPSED_TIME  \\\n",
      "count  566164.000000  565012.000000  565012.000000     580238.000000   \n",
      "mean     1472.801337      15.403726       0.219910        144.698033   \n",
      "std       530.493017      50.709036       0.414186         72.755048   \n",
      "min         1.000000       0.000000       0.000000        -56.000000   \n",
      "25%      1102.000000       0.000000       0.000000         91.000000   \n",
      "50%      1510.000000       0.000000       0.000000        128.000000   \n",
      "75%      1915.000000      11.000000       0.000000        175.000000   \n",
      "max      2400.000000    2976.000000       1.000000        685.000000   \n",
      "\n",
      "            DISTANCE  DISTANCE_GROUP  \n",
      "count  580238.000000   580238.000000  \n",
      "mean      809.319569        3.708054  \n",
      "std       596.630679        2.330451  \n",
      "min        31.000000        1.000000  \n",
      "25%       370.000000        2.000000  \n",
      "50%       657.000000        3.000000  \n",
      "75%      1050.000000        5.000000  \n",
      "max      5095.000000       11.000000  \n",
      "<class 'pandas.core.frame.DataFrame'>\n",
      "RangeIndex: 580238 entries, 0 to 580237\n",
      "Data columns (total 19 columns):\n",
      " #   Column             Non-Null Count   Dtype  \n",
      "---  ------             --------------   -----  \n",
      " 0   YEAR               580238 non-null  int64  \n",
      " 1   MONTH              580238 non-null  int64  \n",
      " 2   DAY_OF_MONTH       580238 non-null  int64  \n",
      " 3   DAY_OF_WEEK        580238 non-null  int64  \n",
      " 4   FL_DATE            580238 non-null  object \n",
      " 5   OP_UNIQUE_CARRIER  580238 non-null  object \n",
      " 6   ORIGIN             580238 non-null  object \n",
      " 7   DEST               580238 non-null  object \n",
      " 8   CRS_DEP_TIME       580238 non-null  int64  \n",
      " 9   DEP_TIME           566778 non-null  float64\n",
      " 10  DEP_DELAY_NEW      566774 non-null  float64\n",
      " 11  DEP_DEL15          566774 non-null  float64\n",
      " 12  CRS_ARR_TIME       580238 non-null  int64  \n",
      " 13  ARR_TIME           566164 non-null  float64\n",
      " 14  ARR_DELAY_NEW      565012 non-null  float64\n",
      " 15  ARR_DEL15          565012 non-null  float64\n",
      " 16  CRS_ELAPSED_TIME   580238 non-null  float64\n",
      " 17  DISTANCE           580238 non-null  float64\n",
      " 18  DISTANCE_GROUP     580238 non-null  int64  \n",
      "dtypes: float64(8), int64(7), object(4)\n",
      "memory usage: 84.1+ MB\n",
      "None\n",
      "YEAR                    1\n",
      "MONTH                   1\n",
      "DAY_OF_MONTH           31\n",
      "DAY_OF_WEEK             7\n",
      "FL_DATE                31\n",
      "OP_UNIQUE_CARRIER      21\n",
      "ORIGIN                368\n",
      "DEST                  368\n",
      "CRS_DEP_TIME         1246\n",
      "DEP_TIME             1431\n",
      "DEP_DELAY_NEW        1048\n",
      "DEP_DEL15               2\n",
      "CRS_ARR_TIME         1313\n",
      "ARR_TIME             1440\n",
      "ARR_DELAY_NEW        1045\n",
      "ARR_DEL15               2\n",
      "CRS_ELAPSED_TIME      467\n",
      "DISTANCE             1504\n",
      "DISTANCE_GROUP         11\n",
      "dtype: int64\n"
     ]
    }
   ],
   "source": [
    "dec_2021_flights = pd.read_csv('december_2021_flights.csv')\n",
    "print(dec_2021_flights.head())\n",
    "print(dec_2021_flights.describe())\n",
    "print(dec_2021_flights.info())\n",
    "print(dec_2021_flights.nunique())"
   ]
  },
  {
   "cell_type": "markdown",
   "id": "73caa89a",
   "metadata": {},
   "source": [
    "# Clean and alter data"
   ]
  },
  {
   "cell_type": "code",
   "execution_count": 30,
   "id": "9050d5bb",
   "metadata": {},
   "outputs": [
    {
     "name": "stdout",
     "output_type": "stream",
     "text": [
      "   DAY_OF_MONTH DAY_OF_WEEK AIRLINE ORIGIN DEST  DEPARTURE  DEPARTURE_DELAY  \\\n",
      "0             7      Monday      WN    DEN  MDW        650              0.0   \n",
      "1             7      Monday      WN    DEN  MDW       1520              1.0   \n",
      "2             7      Monday      WN    DEN  MEM       1330              1.0   \n",
      "3             7      Monday      WN    DEN  MIA       1800              1.0   \n",
      "4             7      Monday      WN    DEN  MIA       1045              1.0   \n",
      "\n",
      "  DISTANCE_GROUP  \n",
      "0        750-999  \n",
      "1        750-999  \n",
      "2        750-999  \n",
      "3      1500-1749  \n",
      "4      1500-1749  \n"
     ]
    }
   ],
   "source": [
    "dec_2021_flights = dec_2021_flights.drop([\n",
    "    'YEAR',\n",
    "    'MONTH',\n",
    "    'FL_DATE',\n",
    "    'DEP_TIME',\n",
    "    \"ARR_TIME\",\n",
    "    'DISTANCE', \n",
    "    'DEP_DELAY_NEW',\n",
    "    'ARR_DELAY_NEW', \n",
    "    'CRS_ELAPSED_TIME',\n",
    "    'CRS_ARR_TIME',\n",
    "    'ARR_DEL15',\n",
    "], axis=1)\n",
    "dec_2021_flights['DISTANCE_GROUP'] = dec_2021_flights['DISTANCE_GROUP'].map({\n",
    "    1:\"0-249\",\n",
    "    2:\"250-499\",\n",
    "    3:\"500-749\",\n",
    "    4:\"750-999\",\n",
    "    5: \"1000-1249\",\n",
    "    6: \"1250-1499\",\n",
    "    7: \"1500-1749\",\n",
    "    8: \"1750-1999\",\n",
    "    9: \"2000-1249\",\n",
    "    10: \"1250-1499\",\n",
    "    11: \"1500-1749\"\n",
    "})\n",
    "\n",
    "dec_2021_flights['DAY_OF_WEEK'] = dec_2021_flights['DAY_OF_WEEK'].map({\n",
    "    1:\"Sunday\",\n",
    "    2:\"Monday\",\n",
    "    3:\"Tuesday\",\n",
    "    4:\"Wednesday\",\n",
    "    5:\"Thursday\",\n",
    "    6:\"Friday\",\n",
    "    7:\"Saturday\"\n",
    "})\n",
    "\n",
    "dec_2021_flights = dec_2021_flights.rename(columns={\n",
    "    \"OP_UNIQUE_CARRIER\":\"AIRLINE\",\n",
    "    \"CRS_DEP_TIME\":\"DEPARTURE\",\n",
    "    \"DEP_DEL15\":\"DEPARTURE_DELAY\",\n",
    "})\n",
    "\n",
    "print(dec_2021_flights.head())\n",
    "\n",
    "\n"
   ]
  },
  {
   "cell_type": "code",
   "execution_count": 40,
   "id": "2b8f0dcc",
   "metadata": {},
   "outputs": [
    {
     "data": {
      "image/png": "[encoded data removed]",
      "text/plain": [
       "<Figure size 432x288 with 1 Axes>"
      ]
     },
     "metadata": {
      "needs_background": "light"
     },
     "output_type": "display_data"
    }
   ],
   "source": [
    "plt.hist(dec_2021_flights['DEPARTURE_DELAY'])\n",
    "plt.show()"
   ]
  },
  {
   "cell_type": "markdown",
   "id": "686d1514",
   "metadata": {},
   "source": [
    "# Train / Test split"
   ]
  },
  {
   "cell_type": "code",
   "execution_count": 31,
   "id": "b4be74a7",
   "metadata": {},
   "outputs": [
    {
     "name": "stdout",
     "output_type": "stream",
     "text": [
      "[0 1 1 ... 0 0 0]\n"
     ]
    }
   ],
   "source": [
    "delays = dec_2021_flights['DEPARTURE_DELAY'].to_numpy().astype(int)\n",
    "\n",
    "features = dec_2021_flights.drop([\"DEPARTURE_DELAY\"], axis=1)\n",
    "\n",
    "X_train, X_test, y_train, y_test = train_test_split(features, delays, test_size=0.3, random_state=42, stratify=delays)"
   ]
  },
  {
   "cell_type": "markdown",
   "id": "57285a7c",
   "metadata": {},
   "source": [
    "# Preprocess the data"
   ]
  },
  {
   "cell_type": "code",
   "execution_count": 33,
   "id": "dc849b1d",
   "metadata": {},
   "outputs": [],
   "source": [
    "# Convert the categorical features in the train and test sets independently\n",
    "# this improves computation time. There are also some models that require strictly numeric format\n",
    "X_train = pd.get_dummies(X_train)\n",
    "X_test = pd.get_dummies(X_test)\n",
    "\n",
    "# we need to reindex the columns in case features appeared in the test set that were not in the train set\n",
    "# set the fill value to 0\n",
    "X_test = X_test.reindex(columns=X_train.columns, fill_value=0)\n",
    "\n",
    "# Instantiate MinMaxScaler and use it to rescale X_train and X_test\n",
    "scaler = MinMaxScaler(feature_range=(0,1))\n",
    "rescaled_X_train = scaler.fit_transform(X_train)\n",
    "rescaled_X_test = scaler.transform(X_test)"
   ]
  },
  {
   "cell_type": "markdown",
   "id": "9d17d7b5",
   "metadata": {},
   "source": [
    "# Train Logistic Regression Model"
   ]
  },
  {
   "cell_type": "code",
   "execution_count": 37,
   "id": "f7ad8882",
   "metadata": {},
   "outputs": [
    {
     "data": {
      "text/plain": [
       "LogisticRegression(max_iter=1000)"
      ]
     },
     "execution_count": 37,
     "metadata": {},
     "output_type": "execute_result"
    }
   ],
   "source": [
    "# Instantiate a LogisticRegression classifier with default parameter values\n",
    "logreg = LogisticRegression(max_iter=1000)\n",
    "# fit the model\n",
    "logreg.fit(rescaled_X_train, y_train)"
   ]
  },
  {
   "cell_type": "markdown",
   "id": "6911b255",
   "metadata": {},
   "source": [
    "# Model Accuracy"
   ]
  },
  {
   "cell_type": "code",
   "execution_count": 38,
   "id": "ed892f87",
   "metadata": {},
   "outputs": [
    {
     "name": "stdout",
     "output_type": "stream",
     "text": [
      "Accuracy of logistic regression classifier:  0.7676861184835757\n"
     ]
    }
   ],
   "source": [
    "y_pred_train = logreg.predict(rescaled_X_train)\n",
    "y_pred_test = logreg.predict(rescaled_X_test)\n",
    "\n",
    "print(\"Accuracy of logistic regression classifier: \",accuracy_score(y_train, y_pred_train))"
   ]
  }
 ],
 "metadata": {
  "kernelspec": {
   "display_name": "Python 3 (ipykernel)",
   "language": "python",
   "name": "python3"
  },
  "language_info": {
   "codemirror_mode": {
    "name": "ipython",
    "version": 3
   },
   "file_extension": ".py",
   "mimetype": "text/x-python",
   "name": "python",
   "nbconvert_exporter": "python",
   "pygments_lexer": "ipython3",
   "version": "3.7.10"
  }
 },
 "nbformat": 4,
 "nbformat_minor": 5
}
